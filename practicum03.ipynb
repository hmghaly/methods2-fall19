{
 "cells": [
  {
   "cell_type": "code",
   "execution_count": 1,
   "metadata": {
    "collapsed": true
   },
   "outputs": [],
   "source": [
    "import re\n"
   ]
  },
  {
   "cell_type": "code",
   "execution_count": 2,
   "metadata": {},
   "outputs": [
    {
     "data": {
      "text/plain": [
       "['the', 'the']"
      ]
     },
     "execution_count": 2,
     "metadata": {},
     "output_type": "execute_result"
    }
   ],
   "source": [
    "#using regex to find a substring within a string\n",
    "needle=\"the\"\n",
    "haystack=\"we find the needle in the haystack\"\n",
    "re.findall(needle,haystack)"
   ]
  },
  {
   "cell_type": "code",
   "execution_count": 4,
   "metadata": {},
   "outputs": [
    {
     "data": {
      "text/plain": [
       "8"
      ]
     },
     "execution_count": 4,
     "metadata": {},
     "output_type": "execute_result"
    }
   ],
   "source": [
    "#basic string methods cannot do this\n",
    "haystack.find(needle)"
   ]
  },
  {
   "cell_type": "code",
   "execution_count": 5,
   "metadata": {},
   "outputs": [
    {
     "data": {
      "text/plain": [
       "22"
      ]
     },
     "execution_count": 5,
     "metadata": {},
     "output_type": "execute_result"
    }
   ],
   "source": [
    "haystack.rfind(needle)"
   ]
  },
  {
   "cell_type": "code",
   "execution_count": 6,
   "metadata": {},
   "outputs": [
    {
     "data": {
      "text/plain": [
       "'we find a needle in a haystack'"
      ]
     },
     "execution_count": 6,
     "metadata": {},
     "output_type": "execute_result"
    }
   ],
   "source": [
    "#replace the word \"the\" with the word \"a\"\n",
    "replacement=\"a\"\n",
    "re.sub(needle,replacement, haystack)"
   ]
  },
  {
   "cell_type": "code",
   "execution_count": 8,
   "metadata": {},
   "outputs": [
    {
     "name": "stdout",
     "output_type": "stream",
     "text": [
      "<_sre.SRE_Match object; span=(8, 11), match='the'>\n",
      "<_sre.SRE_Match object; span=(22, 25), match='the'>\n"
     ]
    }
   ],
   "source": [
    "#more advanced finding methods: finditer\n",
    "found=re.finditer(needle,haystack)\n",
    "for f in found:\n",
    "    print(f)\n"
   ]
  },
  {
   "cell_type": "code",
   "execution_count": 9,
   "metadata": {},
   "outputs": [
    {
     "data": {
      "text/plain": [
       "'the'"
      ]
     },
     "execution_count": 9,
     "metadata": {},
     "output_type": "execute_result"
    }
   ],
   "source": [
    "haystack[8:11]"
   ]
  },
  {
   "cell_type": "code",
   "execution_count": 12,
   "metadata": {},
   "outputs": [
    {
     "data": {
      "text/plain": [
       "['that', 'those', 'things', 'thought', 'the', 'the']"
      ]
     },
     "execution_count": 12,
     "metadata": {},
     "output_type": "execute_result"
    }
   ],
   "source": [
    "#using regex to find words that start with \"th\"\n",
    "#needle=\"the\"\n",
    "haystack=\"we that theater in those other things therefore we thought we will find the needle in the haystack\"\n",
    "re.findall(\"\\W(th\\w*)\\W\",haystack)"
   ]
  },
  {
   "cell_type": "code",
   "execution_count": 17,
   "metadata": {},
   "outputs": [
    {
     "data": {
      "text/plain": [
       "['that', 'theater', 'those', 'things', 'therefore', 'thought', 'the', 'the']"
      ]
     },
     "execution_count": 17,
     "metadata": {},
     "output_type": "execute_result"
    }
   ],
   "source": [
    "re.findall(r\"\\b(th\\w*)\\b\",haystack)"
   ]
  },
  {
   "cell_type": "code",
   "execution_count": 15,
   "metadata": {},
   "outputs": [
    {
     "data": {
      "text/plain": [
       "['at', 'eater', 'ose', 'ings', 'erefore', 'ought', 'e', 'e']"
      ]
     },
     "execution_count": 15,
     "metadata": {},
     "output_type": "execute_result"
    }
   ],
   "source": [
    "re.findall(r\"\\bth(\\w*)\\b\",haystack)"
   ]
  },
  {
   "cell_type": "code",
   "execution_count": 18,
   "metadata": {},
   "outputs": [
    {
     "data": {
      "text/plain": [
       "['that', 'theater', 'those', 'things', 'therefore', 'thought', 'the', 'the']"
      ]
     },
     "execution_count": 18,
     "metadata": {},
     "output_type": "execute_result"
    }
   ],
   "source": [
    "re.findall(r\"\\b(th\\w*)\",haystack)"
   ]
  },
  {
   "cell_type": "code",
   "execution_count": 19,
   "metadata": {},
   "outputs": [
    {
     "data": {
      "text/plain": [
       "['that theater in those other things therefore we thought we will find the needle in the haystack']"
      ]
     },
     "execution_count": 19,
     "metadata": {},
     "output_type": "execute_result"
    }
   ],
   "source": [
    "re.findall(r\"\\b(th.*)\\b\",haystack)"
   ]
  },
  {
   "cell_type": "code",
   "execution_count": 20,
   "metadata": {},
   "outputs": [
    {
     "data": {
      "text/plain": [
       "['that', 'theater', 'those', 'things', 'therefore', 'thought', 'the', 'the']"
      ]
     },
     "execution_count": 20,
     "metadata": {},
     "output_type": "execute_result"
    }
   ],
   "source": [
    "re.findall(r\"\\b(th.*?)\\b\",haystack)"
   ]
  },
  {
   "cell_type": "code",
   "execution_count": 21,
   "metadata": {},
   "outputs": [
    {
     "data": {
      "text/plain": [
       "['that',\n",
       " 'theater',\n",
       " 'those',\n",
       " 'ther',\n",
       " 'things',\n",
       " 'therefore',\n",
       " 'thought',\n",
       " 'the',\n",
       " 'the']"
      ]
     },
     "execution_count": 21,
     "metadata": {},
     "output_type": "execute_result"
    }
   ],
   "source": [
    "re.findall(r\"(th\\w*)\",haystack)"
   ]
  },
  {
   "cell_type": "code",
   "execution_count": 24,
   "metadata": {},
   "outputs": [
    {
     "data": {
      "text/plain": [
       "['read', 're', 'readings', 'regarding']"
      ]
     },
     "execution_count": 24,
     "metadata": {},
     "output_type": "execute_result"
    }
   ],
   "source": [
    "#find all words that start with \"re\"\n",
    "re_sent=\"I read re other readings regarding oreflame and arrested development and rides\"\n",
    "re.findall(r\"\\bre\\w*\",re_sent)\n"
   ]
  },
  {
   "cell_type": "code",
   "execution_count": 25,
   "metadata": {},
   "outputs": [
    {
     "data": {
      "text/plain": [
       "['read', 'readings', 'regarding']"
      ]
     },
     "execution_count": 25,
     "metadata": {},
     "output_type": "execute_result"
    }
   ],
   "source": [
    "re.findall(r\"\\bre\\w+\",re_sent)"
   ]
  },
  {
   "cell_type": "code",
   "execution_count": 30,
   "metadata": {},
   "outputs": [
    {
     "data": {
      "text/plain": [
       "['I', 'other', 'oreflame', 'and', 'arrested', 'development', 'and']"
      ]
     },
     "execution_count": 30,
     "metadata": {},
     "output_type": "execute_result"
    }
   ],
   "source": [
    "re.findall(r\"\\b([^ re]\\w*)\",re_sent)"
   ]
  },
  {
   "cell_type": "code",
   "execution_count": 31,
   "metadata": {},
   "outputs": [
    {
     "data": {
      "text/plain": [
       "['I', 'other', 'oreflame', 'and', 'arrested', 'development', 'and']"
      ]
     },
     "execution_count": 31,
     "metadata": {},
     "output_type": "execute_result"
    }
   ],
   "source": [
    "re.findall(r\"\\b([^\\sre]\\w*)\",re_sent)"
   ]
  },
  {
   "cell_type": "code",
   "execution_count": 34,
   "metadata": {},
   "outputs": [
    {
     "data": {
      "text/plain": [
       "['\\t', ' ', '\\n']"
      ]
     },
     "execution_count": 34,
     "metadata": {},
     "output_type": "execute_result"
    }
   ],
   "source": [
    "text_with_spaces=\"and\\tand other\\nthings\"\n",
    "re.findall(\"\\s\",text_with_spaces)"
   ]
  },
  {
   "cell_type": "code",
   "execution_count": 35,
   "metadata": {},
   "outputs": [
    {
     "data": {
      "text/plain": [
       "['bat', 'but', 'bit', 'bet', 'bot']"
      ]
     },
     "execution_count": 35,
     "metadata": {},
     "output_type": "execute_result"
    }
   ],
   "source": [
    "#find particular expression with square brackets\n",
    "word=\"bla blatd bat but bit bet and others bot\"\n",
    "re.findall(\"b[aeiou]t\",word)"
   ]
  },
  {
   "cell_type": "code",
   "execution_count": 37,
   "metadata": {},
   "outputs": [
    {
     "data": {
      "text/plain": [
       "['bat', 'but', 'bit', 'bet', 'bot', 'beat', 'boat', 'boot']"
      ]
     },
     "execution_count": 37,
     "metadata": {},
     "output_type": "execute_result"
    }
   ],
   "source": [
    "#find particular expression with square brackets\n",
    "word=\"bla blatd bat but bit bet and others bot beat boat boot\"\n",
    "re.findall(\"b[aeiou]+t\",word)"
   ]
  },
  {
   "cell_type": "code",
   "execution_count": 40,
   "metadata": {},
   "outputs": [
    {
     "data": {
      "text/plain": [
       "['bat', 'but', 'bit', 'bet', 'bot', 'beat', 'boat', 'boot']"
      ]
     },
     "execution_count": 40,
     "metadata": {},
     "output_type": "execute_result"
    }
   ],
   "source": [
    "word=\"bla blatd bt bat but bit bet and others bot beat boat boot boooot baaaaat\"\n",
    "re.findall(\"b[aeiou]{1,2}t\",word)"
   ]
  },
  {
   "cell_type": "code",
   "execution_count": 41,
   "metadata": {},
   "outputs": [
    {
     "data": {
      "text/plain": [
       "['bt', 'bat', 'but', 'bit', 'bet', 'bot', 'beat', 'boat', 'boot']"
      ]
     },
     "execution_count": 41,
     "metadata": {},
     "output_type": "execute_result"
    }
   ],
   "source": [
    "re.findall(\"b[aeiou]{0,2}t\",word)"
   ]
  },
  {
   "cell_type": "code",
   "execution_count": 42,
   "metadata": {},
   "outputs": [
    {
     "data": {
      "text/plain": [
       "['bt',\n",
       " 'bat',\n",
       " 'but',\n",
       " 'bit',\n",
       " 'bet',\n",
       " 'bot',\n",
       " 'beat',\n",
       " 'boat',\n",
       " 'boot',\n",
       " 'boooot',\n",
       " 'baaaaat']"
      ]
     },
     "execution_count": 42,
     "metadata": {},
     "output_type": "execute_result"
    }
   ],
   "source": [
    "re.findall(\"b[aeiou]*t\",word)"
   ]
  },
  {
   "cell_type": "code",
   "execution_count": 44,
   "metadata": {},
   "outputs": [
    {
     "data": {
      "text/plain": [
       "['man', 'moon', 'mean']"
      ]
     },
     "execution_count": 44,
     "metadata": {},
     "output_type": "execute_result"
    }
   ],
   "source": [
    "#match the words that start with m and end with n, with vowel(s) in between\n",
    "words_with_mn=\"there is a man on the moon but I don't mean to mine there\"\n",
    "re.findall(r\"m[aeiou]+n\\b\",words_with_mn)"
   ]
  },
  {
   "cell_type": "code",
   "execution_count": 46,
   "metadata": {},
   "outputs": [
    {
     "data": {
      "text/plain": [
       "['man', 'moon', 'mean', 'mine']"
      ]
     },
     "execution_count": 46,
     "metadata": {},
     "output_type": "execute_result"
    }
   ],
   "source": [
    "re.findall(r\"m[aeiou]+ne?\\b\",words_with_mn)"
   ]
  },
  {
   "cell_type": "code",
   "execution_count": 56,
   "metadata": {},
   "outputs": [
    {
     "data": {
      "text/plain": [
       "['Mahammad',\n",
       " 'Mohhammad',\n",
       " 'Mohamed',\n",
       " 'Mohammad',\n",
       " 'Muhammed',\n",
       " 'Muhammad',\n",
       " 'Mehammad',\n",
       " 'Mehmet']"
      ]
     },
     "execution_count": 56,
     "metadata": {},
     "output_type": "execute_result"
    }
   ],
   "source": [
    "#find mohamed, not mahmoud or mahmood\n",
    "mhmd=\"Mahammad Mohhammad Mohamed Mohammad Muhammed Muhammad Mehammad Mehmet Mahmoud Mahmood \"\n",
    "re.findall(r\"\\bm[aoeu]h+a?m+[ae][dt]\",mhmd,re.I)\n"
   ]
  },
  {
   "cell_type": "code",
   "execution_count": 58,
   "metadata": {},
   "outputs": [
    {
     "data": {
      "text/plain": [
       "['Mahammad',\n",
       " 'Mohhammad',\n",
       " 'Mohamed',\n",
       " 'Mohammad',\n",
       " 'Muhammed',\n",
       " 'Muhammad',\n",
       " 'Mehammad',\n",
       " 'Mehmet']"
      ]
     },
     "execution_count": 58,
     "metadata": {},
     "output_type": "execute_result"
    }
   ],
   "source": [
    "re.findall(r\"(?i)\\bm[aoeu]h+a?m+[ae][dt]\",mhmd,re.I) #two possibilities for case insesnsitve"
   ]
  },
  {
   "cell_type": "code",
   "execution_count": 69,
   "metadata": {},
   "outputs": [
    {
     "name": "stdout",
     "output_type": "stream",
     "text": [
      "<_sre.SRE_Match object; span=(0, 3), match='bat'>\n",
      "None\n",
      "None\n",
      "illegal\n"
     ]
    }
   ],
   "source": [
    "print(re.match(\"^b.t$\",\"bat\"))\n",
    "print(re.match(\"^b.t$\",\"bate\"))\n",
    "print(re.match(\"^b.t$\",\"abat\"))\n",
    "if re.match(\"^b.t$\",\"bate\"):\n",
    "    print(\"legal\")\n",
    "else:\n",
    "    print(\"illegal\")"
   ]
  },
  {
   "cell_type": "code",
   "execution_count": 77,
   "metadata": {},
   "outputs": [
    {
     "name": "stdout",
     "output_type": "stream",
     "text": [
      "['pat', 'apt', 'tab']\n",
      "pat legal\n",
      "pit legal\n",
      "apt legal\n",
      "bat legal\n",
      "tab legal\n",
      "pta illegal\n",
      "tpa illegal\n",
      "abt illegal\n",
      "tba illegal\n"
     ]
    }
   ],
   "source": [
    "print(re.findall(\"pat|apt|tab\",\"pat pit apt bat tab\"))\n",
    "\n",
    "#find admissible words in English and those that are not\n",
    "legal_words=\"pat pit apt bat tab\".split()\n",
    "illegal_words=\"pta tpa abt tba\".split()\n",
    "pattern=\"|\".join(legal_words)\n",
    "#print(\"|\".join(legal_words))\n",
    "all_words=legal_words+illegal_words\n",
    "for word in all_words:\n",
    "    #print(word)\n",
    "    if re.match(pattern,word):\n",
    "        print(word, \"legal\")\n",
    "    else:\n",
    "        print(word, \"illegal\")\n",
    "    #print(re.match(\"pat\",word))\n",
    "    #regex to check if the word is legal or not"
   ]
  },
  {
   "cell_type": "code",
   "execution_count": null,
   "metadata": {
    "collapsed": true
   },
   "outputs": [],
   "source": []
  }
 ],
 "metadata": {
  "kernelspec": {
   "display_name": "Python 3",
   "language": "python",
   "name": "python3"
  },
  "language_info": {
   "codemirror_mode": {
    "name": "ipython",
    "version": 3
   },
   "file_extension": ".py",
   "mimetype": "text/x-python",
   "name": "python",
   "nbconvert_exporter": "python",
   "pygments_lexer": "ipython3",
   "version": "3.6.8"
  }
 },
 "nbformat": 4,
 "nbformat_minor": 2
}
